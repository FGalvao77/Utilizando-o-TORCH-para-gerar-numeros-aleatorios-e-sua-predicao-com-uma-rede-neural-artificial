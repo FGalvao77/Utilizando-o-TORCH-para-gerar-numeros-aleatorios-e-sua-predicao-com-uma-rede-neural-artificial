{
  "nbformat": 4,
  "nbformat_minor": 0,
  "metadata": {
    "colab": {
      "provenance": [],
      "authorship_tag": "ABX9TyPnIbS7Y2faKC/SCdIIV/Kn",
      "include_colab_link": true
    },
    "kernelspec": {
      "name": "python3",
      "display_name": "Python 3"
    },
    "language_info": {
      "name": "python"
    }
  },
  "cells": [
    {
      "cell_type": "markdown",
      "metadata": {
        "id": "view-in-github",
        "colab_type": "text"
      },
      "source": [
        "<a href=\"https://colab.research.google.com/github/FGalvao77/Utilizando-o-TORCH-para-gerar-numeros-aleatorios-e-sua-predicao-com-uma-rede-neural-artificial/blob/main/Utilizando_o_TORCH_para_gerar_n%C3%BAmeros_aleat%C3%B3rios_e_sua_predi%C3%A7%C3%A3o_com_uma_rede_neural_artificial.ipynb\" target=\"_parent\"><img src=\"https://colab.research.google.com/assets/colab-badge.svg\" alt=\"Open In Colab\"/></a>"
      ]
    },
    {
      "cell_type": "markdown",
      "source": [
        "## **Utilizando o `TORCH` para gerar _números aleatórios_ e sua predição com uma _rede neural artificial_**\n",
        "---\n",
        "---\n",
        "\n",
        "<br>"
      ],
      "metadata": {
        "id": "GrYtYao4Y6eN"
      }
    },
    {
      "cell_type": "code",
      "execution_count": 1,
      "metadata": {
        "id": "MUQuu3W_Owy6"
      },
      "outputs": [],
      "source": [
        "# importando a biblioteca e as funções/módulos\n",
        "import torch\n",
        "import torch.nn as nn\n",
        "import torch.optim as optim"
      ]
    },
    {
      "cell_type": "code",
      "source": [
        "# visualizando a versão da biblioteca \n",
        "print(f'[VERSION] - Torch: {torch.__version__}')"
      ],
      "metadata": {
        "id": "7S-JkHS2O_X7",
        "colab": {
          "base_uri": "https://localhost:8080/"
        },
        "outputId": "cb16bc10-c752-48fe-84ea-99179ab03367"
      },
      "execution_count": 2,
      "outputs": [
        {
          "output_type": "stream",
          "name": "stdout",
          "text": [
            "[VERSION] - Torch: 1.13.1+cu116\n"
          ]
        }
      ]
    },
    {
      "cell_type": "code",
      "source": [
        "# criando uma classe para gerar números aleatórios\n",
        "class RandomNumberGenerator(nn.Module):\n",
        "    \n",
        "    # inicializando a função da rede neural artificial\n",
        "    def __init__(self, input_size, hidden_size, output_size):\n",
        "        super(RandomNumberGenerator, self).__init__()\n",
        "        self.hidden = nn.Linear(input_size, hidden_size)\n",
        "        self.out = nn.Linear(hidden_size, output_size)\n",
        "\n",
        "    # função de perda\n",
        "    def forward(self, x):\n",
        "        x = torch.relu(self.hidden(x))\n",
        "        x = self.out(x)\n",
        "\n",
        "        return x"
      ],
      "metadata": {
        "id": "-Sxka-deO_Wm"
      },
      "execution_count": 3,
      "outputs": []
    },
    {
      "cell_type": "code",
      "source": [
        "# instanciando as camadas da rede\n",
        "input_size = 1      # camada de entrada\n",
        "hidden_size = 16    # camada oculta\n",
        "output_size = 1     # camada de saída"
      ],
      "metadata": {
        "id": "A82qblWJR_lU"
      },
      "execution_count": 4,
      "outputs": []
    },
    {
      "cell_type": "code",
      "source": [
        "# criando o modelo\n",
        "model = RandomNumberGenerator(input_size, hidden_size, output_size)"
      ],
      "metadata": {
        "id": "4hP95fC7R_j7"
      },
      "execution_count": 5,
      "outputs": []
    },
    {
      "cell_type": "code",
      "source": [
        "# visualizando o modelo criado\n",
        "print(model)"
      ],
      "metadata": {
        "colab": {
          "base_uri": "https://localhost:8080/"
        },
        "id": "ns4uHJbyR_eS",
        "outputId": "af1fb5e0-069e-49c6-a230-c9359ccbeafc"
      },
      "execution_count": 6,
      "outputs": [
        {
          "output_type": "stream",
          "name": "stdout",
          "text": [
            "RandomNumberGenerator(\n",
            "  (hidden): Linear(in_features=1, out_features=16, bias=True)\n",
            "  (out): Linear(in_features=16, out_features=1, bias=True)\n",
            ")\n"
          ]
        }
      ]
    },
    {
      "cell_type": "code",
      "source": [
        "# definindo a função de perda e otimizador da rede\n",
        "criterion = nn.MSELoss()\n",
        "optimizer =  optim.Adam(model.parameters(), lr=0.01)"
      ],
      "metadata": {
        "id": "d7yrd3jrR_dQ"
      },
      "execution_count": 7,
      "outputs": []
    },
    {
      "cell_type": "code",
      "source": [
        "# realizando um laço de repetição para gerar números aleatórios\n",
        "for epoch in range(1_000):\n",
        "    '''\n",
        "    random_num ---> gerando um número aleatório entre 1 e 1.000\n",
        "    normalized_num ---> normalizando o número aleatório entre -1 e 1\n",
        "    predicted ---> prevendo o número aleatório normalizado\n",
        "    loss ---> calculando a perda\n",
        "\n",
        "    '''\n",
        "    random_num = torch.randint(low=1, high=1_001, size=(1, ))\n",
        "    normalized_num = (random_num - 500) / 500.0\n",
        "    prediction = model(normalized_num.float())\n",
        "    loss = criterion(prediction, normalized_num.float())\n",
        "    \n",
        "    '''\n",
        "    realizando o \"backpropagation\" e atualizando os parâmetros\n",
        "    '''\n",
        "    optimizer.zero_grad()\n",
        "    loss.backward()\n",
        "    optimizer.step()"
      ],
      "metadata": {
        "id": "beqoOjhQR_cM"
      },
      "execution_count": 11,
      "outputs": []
    },
    {
      "cell_type": "code",
      "source": [
        "# gerando um número aleatório entre 1 e 1.000 usando o modelo treinado\n",
        "random_num = torch.randint(low=1, high=1_001, size=(1, ))\n",
        "normalized_num = (random_num - 500) / 500.0\n",
        "prediction = model(normalized_num.float())\n",
        "predicted_num = (prediction.item() * 500) + 500"
      ],
      "metadata": {
        "id": "f2cAdRcBR_U_"
      },
      "execution_count": 16,
      "outputs": []
    },
    {
      "cell_type": "code",
      "source": [
        "# visualizando o número aleatório e a predição\n",
        "print(f'Random number: {random_num.item()} | Predicted number: {predicted_num}')"
      ],
      "metadata": {
        "colab": {
          "base_uri": "https://localhost:8080/"
        },
        "id": "8asgyQ3MR_Sh",
        "outputId": "774ec808-1236-4835-92f0-d61b30b76ded"
      },
      "execution_count": 18,
      "outputs": [
        {
          "output_type": "stream",
          "name": "stdout",
          "text": [
            "Random number: 508 | Predicted number: 509.5069631934166\n"
          ]
        }
      ]
    },
    {
      "cell_type": "code",
      "source": [
        "%whos"
      ],
      "metadata": {
        "id": "K4lgAyUOO_Qv",
        "colab": {
          "base_uri": "https://localhost:8080/"
        },
        "outputId": "4eed095f-8bfa-4cd2-8194-af6900831559"
      },
      "execution_count": 14,
      "outputs": [
        {
          "output_type": "stream",
          "name": "stdout",
          "text": [
            "Variable                Type                     Data/Info\n",
            "----------------------------------------------------------\n",
            "RandomNumberGenerator   type                     <class '__main__.RandomNumberGenerator'>\n",
            "criterion               MSELoss                  MSELoss()\n",
            "epoch                   int                      999\n",
            "hidden_size             int                      16\n",
            "input_size              int                      1\n",
            "loss                    Tensor                   tensor(5.7355e-05, grad_fn=<MseLossBackward0>)\n",
            "model                   RandomNumberGenerator    RandomNumberGenerator(\\n <...>features=1, bias=True)\\n)\n",
            "nn                      module                   <module 'torch.nn' from '<...>es/torch/nn/__init__.py'>\n",
            "normalized_num          Tensor                   tensor([-0.7860])\n",
            "optim                   module                   <module 'torch.optim' fro<...>torch/optim/__init__.py'>\n",
            "optimizer               Adam                     Adam (\\nParameter Group 0<...>e\\n    weight_decay: 0\\n)\n",
            "output_size             int                      1\n",
            "predicted_num           float                    102.15020179748535\n",
            "prediction              Tensor                   tensor([-0.7957], grad_fn=<AddBackward0>)\n",
            "random_num              Tensor                   tensor([107])\n",
            "torch                   module                   <module 'torch' from '/us<...>kages/torch/__init__.py'>\n"
          ]
        }
      ]
    },
    {
      "cell_type": "code",
      "source": [
        "%who_ls"
      ],
      "metadata": {
        "id": "BBKLHx16O_QB",
        "colab": {
          "base_uri": "https://localhost:8080/"
        },
        "outputId": "6fd228f1-e255-4bf5-a531-4fe93cf52c04"
      },
      "execution_count": 14,
      "outputs": [
        {
          "output_type": "execute_result",
          "data": {
            "text/plain": [
              "['RandomNumberGenerator',\n",
              " 'criterion',\n",
              " 'epoch',\n",
              " 'hidden_size',\n",
              " 'input_size',\n",
              " 'loss',\n",
              " 'model',\n",
              " 'nn',\n",
              " 'normalized_num',\n",
              " 'optim',\n",
              " 'optimizer',\n",
              " 'output_size',\n",
              " 'predicted_num',\n",
              " 'prediction',\n",
              " 'random_num',\n",
              " 'torch']"
            ]
          },
          "metadata": {},
          "execution_count": 14
        }
      ]
    },
    {
      "cell_type": "code",
      "source": [],
      "metadata": {
        "id": "FIaatsC_O_PT"
      },
      "execution_count": 10,
      "outputs": []
    },
    {
      "cell_type": "code",
      "source": [],
      "metadata": {
        "id": "C4ic7JfRO_JY"
      },
      "execution_count": 10,
      "outputs": []
    },
    {
      "cell_type": "code",
      "source": [],
      "metadata": {
        "id": "5A7VVy6hdJw1"
      },
      "execution_count": null,
      "outputs": []
    }
  ]
}